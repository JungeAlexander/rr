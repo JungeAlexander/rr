{
 "cells": [
  {
   "cell_type": "markdown",
   "id": "0c663623-6306-4451-9602-32a338f78b17",
   "metadata": {},
   "source": [
    "# Semantic Scholar API"
   ]
  },
  {
   "cell_type": "code",
   "execution_count": null,
   "id": "2578f252-6010-4a4b-bfd2-b7efddfe66f7",
   "metadata": {},
   "outputs": [],
   "source": [
    "import httpx\n",
    "import numpy as np\n",
    "import pandas as pd\n",
    "from sklearn.metrics.pairwise import cosine_similarity"
   ]
  },
  {
   "cell_type": "code",
   "execution_count": null,
   "id": "eefde732-e6ce-45f8-ac80-6c0b7c7bee0b",
   "metadata": {},
   "outputs": [],
   "source": [
    "doi = \"10.1101/444398\""
   ]
  },
  {
   "cell_type": "code",
   "execution_count": null,
   "id": "dc4136be-1d82-41bc-8be6-85436de4ddb5",
   "metadata": {},
   "outputs": [],
   "source": [
    "r1 = httpx.get(\n",
    "    f\"https://api.semanticscholar.org/graph/v1/paper/DOI:{doi}?fields=title,url,abstract,authors\"\n",
    ")"
   ]
  },
  {
   "cell_type": "code",
   "execution_count": null,
   "id": "571b062f-c60e-443c-8292-8b612ec60155",
   "metadata": {},
   "outputs": [],
   "source": [
    "def print_paper(paper: dict):\n",
    "    print(paper[\"title\"])\n",
    "    print(paper[\"url\"])\n",
    "    print(paper[\"abstract\"])\n",
    "    print(paper[\"authors\"])"
   ]
  },
  {
   "cell_type": "code",
   "execution_count": null,
   "id": "382a6ec0-cdbd-4682-ad81-f91a1ae9d46d",
   "metadata": {},
   "outputs": [],
   "source": [
    "j1 = r1.json()\n",
    "print_paper(j1)"
   ]
  },
  {
   "cell_type": "code",
   "execution_count": null,
   "id": "396d5297-e217-4558-828a-9b140d5d010d",
   "metadata": {},
   "outputs": [],
   "source": [
    "paper_id = j1[\"paperId\"]"
   ]
  },
  {
   "cell_type": "code",
   "execution_count": null,
   "id": "380794cc-83fd-48c0-9c50-ac14f9ac8a70",
   "metadata": {},
   "outputs": [],
   "source": [
    "num_papers = 30"
   ]
  },
  {
   "cell_type": "code",
   "execution_count": null,
   "id": "7c17b536-c7fb-4d39-af06-8379fe8b5f47",
   "metadata": {},
   "outputs": [],
   "source": [
    "r2 = httpx.get(\n",
    "    f\"https://api.semanticscholar.org/recommendations/v1/papers/forpaper/{paper_id}?limit={num_papers}&fields=title,url,abstract,authors\"\n",
    ")  # \")"
   ]
  },
  {
   "cell_type": "code",
   "execution_count": null,
   "id": "4bbf2c6e-8742-4043-a0f8-13a3c67cf728",
   "metadata": {},
   "outputs": [],
   "source": [
    "j2 = r2.json()"
   ]
  },
  {
   "cell_type": "code",
   "execution_count": null,
   "id": "4db35e6c-37e0-454f-9e65-7eea0ac2f4b3",
   "metadata": {},
   "outputs": [],
   "source": [
    "def get_paper_batch_info(ids):\n",
    "    payload = {\"ids\": ids}\n",
    "    r = httpx.post(\n",
    "        \"https://api.semanticscholar.org/graph/v1/paper/batch?fields=title,abstract,authors,year,venue,embedding,tldr\",\n",
    "        json=payload,\n",
    "        timeout=50.0,\n",
    "    )\n",
    "    return r.json()"
   ]
  },
  {
   "cell_type": "code",
   "execution_count": null,
   "id": "77415ffc-9696-484f-8fc8-3b6eba8cc6de",
   "metadata": {},
   "outputs": [],
   "source": [
    "ids = [p[\"paperId\"] for p in j2[\"recommendedPapers\"]] + [paper_id]"
   ]
  },
  {
   "cell_type": "code",
   "execution_count": null,
   "id": "e62b1f7b-14da-47e8-a853-ed6bbe928005",
   "metadata": {},
   "outputs": [],
   "source": [
    "j3 = get_paper_batch_info(ids)"
   ]
  },
  {
   "cell_type": "code",
   "execution_count": null,
   "id": "c07daf88-9555-4c85-bdba-5469ec91dea4",
   "metadata": {},
   "outputs": [],
   "source": [
    "def parse_paper_batch_info(json_response):\n",
    "    id_to_vector = {}\n",
    "    id_info = []\n",
    "    for p in json_response:\n",
    "        id_ = p[\"paperId\"]\n",
    "        assert p[\"embedding\"][\"model\"] == \"specter@v0.1.1\"\n",
    "        id_to_vector[id_] = p[\"embedding\"][\"vector\"]\n",
    "        if p[\"tldr\"] is not None:\n",
    "            tldr = p[\"tldr\"][\"text\"]\n",
    "        else:\n",
    "            tldr = \"\"\n",
    "        id_info.append(\n",
    "            [\n",
    "                id_,\n",
    "                p[\"title\"],\n",
    "                p[\"year\"],\n",
    "                p[\"venue\"],\n",
    "                p[\"abstract\"],\n",
    "                tldr,\n",
    "                [a[\"name\"] for a in p[\"authors\"]],\n",
    "            ]\n",
    "        )\n",
    "    id_info_df = pd.DataFrame(\n",
    "        id_info,\n",
    "        columns=[\"id_\", \"title\", \"year\", \"venue\", \"abstract\", \"tldr\", \"authors\"],\n",
    "    )\n",
    "    return id_info_df, id_to_vector"
   ]
  },
  {
   "cell_type": "code",
   "execution_count": null,
   "id": "d20936a4-e4b7-4053-b6f1-996bbaf8cbdb",
   "metadata": {},
   "outputs": [],
   "source": [
    "id_info_df, id_to_vector = parse_paper_batch_info(j3)"
   ]
  },
  {
   "cell_type": "markdown",
   "id": "f59ff746-339b-47c8-b8e8-206811b272c9",
   "metadata": {},
   "source": [
    "### Finetuning recommendations"
   ]
  },
  {
   "cell_type": "code",
   "execution_count": null,
   "id": "58dd9805-922a-47a5-9bc3-1ec4534c30fd",
   "metadata": {},
   "outputs": [],
   "source": [
    "pd.set_option(\"display.max_colwidth\", None)"
   ]
  },
  {
   "cell_type": "code",
   "execution_count": null,
   "id": "86444643-a540-4445-a46d-e6fcf5c6af9b",
   "metadata": {},
   "outputs": [],
   "source": [
    "id_info_df[[\"id_\", \"title\"]]"
   ]
  },
  {
   "cell_type": "code",
   "execution_count": null,
   "id": "bccc2e5b-bf05-405c-b6da-86edffbcad02",
   "metadata": {},
   "outputs": [],
   "source": [
    "liked_ids = [\n",
    "    \"0824e6f75e18325a79b11e3e4a118409e3297f97\",\n",
    "    \"d0c5f901868f6e2cb126fd51b155f631372a9669\",\n",
    "]\n",
    "disliked_ids = [\n",
    "    \"13d51ef5fbf4447bd9d58283387f1610a4fcfce4\",\n",
    "    \"b6407952a59dd1664e44e3a6336f91e8599aa30f\",\n",
    "    \"b9c8fed348084c5b31722f5433ea805299d006aa\",\n",
    "    \"48de1a31cca6631bd73a5d0854acfda5e5195d66\",\n",
    "    \"0e908cfd65ebd60c690e2aabcb9e0d67bdcbfb81\",\n",
    "]"
   ]
  },
  {
   "cell_type": "code",
   "execution_count": null,
   "id": "cca9400d-9e87-40c6-8d8d-7160524039bc",
   "metadata": {},
   "outputs": [],
   "source": [
    "id_types = []\n",
    "for i in id_info_df.loc[:, \"id_\"]:\n",
    "    if i in liked_ids:\n",
    "        id_types.append(\"liked\")\n",
    "    elif i in disliked_ids:\n",
    "        id_types.append(\"disliked\")\n",
    "    elif i == paper_id:\n",
    "        id_types.append(\"query\")\n",
    "    else:\n",
    "        id_types.append(\"value\")\n",
    "id_info_df.insert(0, \"type\", id_types)"
   ]
  },
  {
   "cell_type": "code",
   "execution_count": null,
   "id": "5fc4d50b-b261-41fd-8c2a-0119afa3c2db",
   "metadata": {},
   "outputs": [],
   "source": [
    "attractor_ids = liked_ids + [paper_id]\n",
    "detractor_ids = disliked_ids.copy()"
   ]
  },
  {
   "cell_type": "code",
   "execution_count": null,
   "id": "53b7189e-c583-4042-81ec-c44aa6e33fda",
   "metadata": {},
   "outputs": [],
   "source": [
    "def print_paper_info(paper_ids, paper_info_df):\n",
    "    for i in paper_ids:\n",
    "        print(i)\n",
    "        print(paper_info_df.loc[paper_info_df.loc[:, \"id_\"] == i, \"title\"])\n",
    "        print()"
   ]
  },
  {
   "cell_type": "code",
   "execution_count": null,
   "id": "4e664d6c-e42f-433d-aa6d-a6c78471c9e4",
   "metadata": {},
   "outputs": [],
   "source": [
    "print_paper_info(attractor_ids, id_info_df)"
   ]
  },
  {
   "cell_type": "code",
   "execution_count": null,
   "id": "4fe6bfeb-f858-48fb-86b4-856d3cfb3bee",
   "metadata": {},
   "outputs": [],
   "source": [
    "print_paper_info(detractor_ids, id_info_df)"
   ]
  },
  {
   "cell_type": "code",
   "execution_count": null,
   "id": "05cb941f-d5cf-44b1-846e-031eeaf944d3",
   "metadata": {},
   "outputs": [],
   "source": [
    "assert all((i in id_to_vector for i in attractor_ids))"
   ]
  },
  {
   "cell_type": "code",
   "execution_count": null,
   "id": "45cb393d-485b-4e59-9657-95938ba57b44",
   "metadata": {},
   "outputs": [],
   "source": [
    "assert all((i in id_to_vector for i in detractor_ids))"
   ]
  },
  {
   "cell_type": "code",
   "execution_count": null,
   "id": "7aae3fce-20a6-4ee2-bbbc-30a6cf1e2a4a",
   "metadata": {},
   "outputs": [],
   "source": [
    "embed_dim = 768"
   ]
  },
  {
   "cell_type": "code",
   "execution_count": null,
   "id": "da54f9e9-c280-460f-a8dc-0412602babe2",
   "metadata": {},
   "outputs": [],
   "source": [
    "def embed_matrix(ids, id_to_vector, embed_dim):\n",
    "    mat = np.fromiter(\n",
    "        (id_to_vector[i] for i in ids), dtype=np.dtype((float, embed_dim))\n",
    "    )\n",
    "    return mat"
   ]
  },
  {
   "cell_type": "code",
   "execution_count": null,
   "id": "57334cb4-5296-4cc4-9999-4ef4af9b91f2",
   "metadata": {},
   "outputs": [],
   "source": [
    "attractor_ids_mat = embed_matrix(attractor_ids, id_to_vector, embed_dim)\n",
    "detractor_ids_mat = embed_matrix(detractor_ids, id_to_vector, embed_dim)"
   ]
  },
  {
   "cell_type": "code",
   "execution_count": null,
   "id": "d9519be7-cc6c-495b-b9c1-c3c04964302e",
   "metadata": {},
   "outputs": [],
   "source": [
    "assert attractor_ids_mat.shape == (len(attractor_ids), embed_dim)\n",
    "assert detractor_ids_mat.shape == (len(detractor_ids), embed_dim)"
   ]
  },
  {
   "cell_type": "code",
   "execution_count": null,
   "id": "65507513-7147-4db3-afca-35ea68b9e9fa",
   "metadata": {},
   "outputs": [],
   "source": [
    "query_term = \"distant supervision biomedical text mining\""
   ]
  },
  {
   "cell_type": "code",
   "execution_count": null,
   "id": "fbff2c3a-b580-4d5e-a711-5b3a6d39ae95",
   "metadata": {},
   "outputs": [],
   "source": [
    "r4 = httpx.get(\n",
    "    f\"https://api.semanticscholar.org/graph/v1/paper/search?query={query_term}&fields=title,url,abstract,authors&limit=50\"\n",
    ")"
   ]
  },
  {
   "cell_type": "code",
   "execution_count": null,
   "id": "f6ce057f-8276-493e-b597-dc6f88d69361",
   "metadata": {},
   "outputs": [],
   "source": [
    "j4 = r4.json()"
   ]
  },
  {
   "cell_type": "code",
   "execution_count": null,
   "id": "cdcc4b1f-3ec4-4566-a2c2-f24d8b31e15d",
   "metadata": {},
   "outputs": [],
   "source": [
    "new_query_ids = [p[\"paperId\"] for p in j4[\"data\"]]"
   ]
  },
  {
   "cell_type": "code",
   "execution_count": null,
   "id": "01fbb6cf-dc3c-4dff-bc66-e02346c382ad",
   "metadata": {},
   "outputs": [],
   "source": [
    "j5 = get_paper_batch_info(new_query_ids)"
   ]
  },
  {
   "cell_type": "code",
   "execution_count": null,
   "id": "8288588a-cdb4-4327-9a87-a3c3b4b54779",
   "metadata": {},
   "outputs": [],
   "source": [
    "new_query_id_df, new_query_id_to_vector = parse_paper_batch_info(j5)"
   ]
  },
  {
   "cell_type": "code",
   "execution_count": null,
   "id": "242e3c92-363a-46c3-8426-320dda65c586",
   "metadata": {},
   "outputs": [],
   "source": [
    "new_query_ids_mat = embed_matrix(new_query_ids, new_query_id_to_vector, embed_dim)\n",
    "new_query_ids_mat.shape"
   ]
  },
  {
   "cell_type": "code",
   "execution_count": null,
   "id": "a7301fc5-016f-429d-802c-8fd8afb29352",
   "metadata": {},
   "outputs": [],
   "source": [
    "assert new_query_ids_mat.shape == (len(new_query_ids), embed_dim)"
   ]
  },
  {
   "cell_type": "code",
   "execution_count": null,
   "id": "5948eed9-e4af-4efc-add4-55e7ba425d6e",
   "metadata": {},
   "outputs": [],
   "source": [
    "def d(a, m):\n",
    "    return 1 - cosine_similarity(a, m)"
   ]
  },
  {
   "cell_type": "code",
   "execution_count": null,
   "id": "0e4a0956-d41d-488c-ab1c-4a6935a63dc3",
   "metadata": {},
   "outputs": [],
   "source": [
    "attractor_d = d(new_query_ids_mat, attractor_ids_mat)\n",
    "detractor_d = d(new_query_ids_mat, detractor_ids_mat)"
   ]
  },
  {
   "cell_type": "code",
   "execution_count": null,
   "id": "23c9bef2-45a0-4211-af19-add5b70c4732",
   "metadata": {},
   "outputs": [],
   "source": [
    "loss = attractor_d.min(axis=1) - detractor_d.min(axis=1)"
   ]
  },
  {
   "cell_type": "code",
   "execution_count": null,
   "id": "556839d4-ef1a-42b0-a701-a07d06df72d9",
   "metadata": {},
   "outputs": [],
   "source": [
    "n = 5"
   ]
  },
  {
   "cell_type": "code",
   "execution_count": null,
   "id": "4b2622d7-6ad1-4e92-bb0f-2c831741b03d",
   "metadata": {},
   "outputs": [],
   "source": [
    "keep_query_id = loss.argsort()[:n]\n",
    "keep_query_id"
   ]
  },
  {
   "cell_type": "code",
   "execution_count": null,
   "id": "c5cf3886-f861-4ef4-b156-d1c747192dbb",
   "metadata": {},
   "outputs": [],
   "source": [
    "print_paper_info([new_query_ids[i] for i in keep_query_id], new_query_id_df)"
   ]
  },
  {
   "cell_type": "markdown",
   "id": "a122d326-9b3a-4d35-922f-a06566b24d7c",
   "metadata": {},
   "source": [
    "### UMAP embedding"
   ]
  },
  {
   "cell_type": "code",
   "execution_count": null,
   "id": "92ea88cd-cabe-4c4a-982c-008624f759a4",
   "metadata": {},
   "outputs": [],
   "source": [
    "import bokeh\n",
    "import umap\n",
    "from bokeh.models import CategoricalColorMapper, ColumnDataSource, HoverTool\n",
    "from bokeh.palettes import Spectral10\n",
    "from bokeh.plotting import figure, output_notebook, show\n",
    "\n",
    "output_notebook()"
   ]
  },
  {
   "cell_type": "code",
   "execution_count": null,
   "id": "314f9aae-f4e7-46b5-a7b4-e1e4fd98bb2d",
   "metadata": {},
   "outputs": [],
   "source": [
    "reducer = umap.UMAP(random_state=42)"
   ]
  },
  {
   "cell_type": "code",
   "execution_count": null,
   "id": "748edeca-b7f6-455f-a545-437bffb6055c",
   "metadata": {},
   "outputs": [],
   "source": [
    "ids = id_info_df.loc[:, \"id_\"].tolist()\n",
    "embeddings = [id_to_vector[i] for i in ids]\n",
    "embed_df = pd.DataFrame(embeddings, index=ids)\n",
    "embed_df"
   ]
  },
  {
   "cell_type": "code",
   "execution_count": null,
   "id": "4758cab0-a4b8-4af2-acdd-c39a4abe42e5",
   "metadata": {},
   "outputs": [],
   "source": [
    "reducer.fit(embed_df)"
   ]
  },
  {
   "cell_type": "code",
   "execution_count": null,
   "id": "88b8b997-b43d-4199-a1ca-ac048211bc2b",
   "metadata": {},
   "outputs": [],
   "source": [
    "embed_df_t = pd.DataFrame(reducer.transform(embed_df))\n",
    "embed_df_t.columns = [\"x\", \"y\"]\n",
    "embed_df_t[\"id_\"] = ids"
   ]
  },
  {
   "cell_type": "code",
   "execution_count": null,
   "id": "f919823e-bb2b-4c1a-8bf8-ba8a8b4093cb",
   "metadata": {},
   "outputs": [],
   "source": [
    "df_t = embed_df_t.merge(id_info_df, on=\"id_\", validate=\"one_to_one\")"
   ]
  },
  {
   "cell_type": "code",
   "execution_count": null,
   "id": "47305fd4-1a45-478b-ad1a-9360e30bcb03",
   "metadata": {},
   "outputs": [],
   "source": [
    "datasource = ColumnDataSource({str(c): v.values for c, v in df_t.items()})"
   ]
  },
  {
   "cell_type": "code",
   "execution_count": null,
   "id": "646dddff-04b8-47cf-a142-e6ad8e2e3ea5",
   "metadata": {},
   "outputs": [],
   "source": [
    "tooltips = [\n",
    "    (\"(x,y)\", \"($x, $y)\"),\n",
    "    (\"id\", \"@id_\"),\n",
    "    (\"title\", \"@title\"),\n",
    "]"
   ]
  },
  {
   "cell_type": "code",
   "execution_count": null,
   "id": "ff286c2d-559f-4430-add4-c12ad207b734",
   "metadata": {},
   "outputs": [],
   "source": [
    "plot_figure = figure(\n",
    "    title=\"UMAP projection of papers\",\n",
    "    width=800,\n",
    "    height=800,\n",
    "    tooltips=tooltips,\n",
    ")"
   ]
  },
  {
   "cell_type": "code",
   "execution_count": null,
   "id": "a2edc6f5-5101-46be-a90e-2c364b93ab26",
   "metadata": {},
   "outputs": [],
   "source": [
    "color_map = CategoricalColorMapper(\n",
    "    palette=[\"black\", \"orange\", \"blue\", \"grey\"],\n",
    "    factors=[\"query\", \"liked\", \"disliked\", \"value\"],\n",
    ")"
   ]
  },
  {
   "cell_type": "code",
   "execution_count": null,
   "id": "3618b8d9-dd1a-4a59-8e3f-140b476ecd10",
   "metadata": {},
   "outputs": [],
   "source": [
    "plot_figure.circle(\n",
    "    \"x\",\n",
    "    \"y\",\n",
    "    source=datasource,\n",
    "    size=20,\n",
    "    color={\"field\": \"type\", \"transform\": color_map},\n",
    "    alpha=0.5,\n",
    ")\n",
    "show(plot_figure)"
   ]
  },
  {
   "cell_type": "markdown",
   "id": "21b73c09-384a-410b-a255-40a8107edd3e",
   "metadata": {},
   "source": [
    "## BioGPT"
   ]
  },
  {
   "cell_type": "code",
   "execution_count": null,
   "id": "f4586c4c-fbee-4c9f-973b-21b7fc6ecd0d",
   "metadata": {},
   "outputs": [],
   "source": [
    "from transformers import BioGptForCausalLM, BioGptTokenizer, pipeline, set_seed"
   ]
  },
  {
   "cell_type": "code",
   "execution_count": null,
   "id": "bda10e5d-8d36-45ae-83d0-3f09c61954d3",
   "metadata": {},
   "outputs": [],
   "source": [
    "model = BioGptForCausalLM.from_pretrained(\"microsoft/biogpt-large\")\n",
    "tokenizer = BioGptTokenizer.from_pretrained(\"microsoft/biogpt-large\")"
   ]
  },
  {
   "cell_type": "code",
   "execution_count": null,
   "id": "36686377-c01d-49cc-acb7-422d2e3bc9d0",
   "metadata": {},
   "outputs": [],
   "source": [
    "generator = pipeline(\"text-generation\", model=model, tokenizer=tokenizer)\n",
    "set_seed(42)\n",
    "generator(\"COVID-19 is\", max_length=20, num_return_sequences=5, do_sample=True)"
   ]
  },
  {
   "cell_type": "code",
   "execution_count": null,
   "id": "4d13c770-f9de-43ef-82d2-d5c4478d71d0",
   "metadata": {},
   "outputs": [],
   "source": [
    "input_text = f\"Task: please summarize the following article. Article: {j1['abstract']}\"\n",
    "input_text += \" Summary: \"\n",
    "input_text"
   ]
  },
  {
   "cell_type": "code",
   "execution_count": null,
   "id": "735b75b7-cae3-4471-bd11-0a87bd36837a",
   "metadata": {},
   "outputs": [],
   "source": [
    "generator(input_text, max_new_tokens=200, num_return_sequences=5, do_sample=True)"
   ]
  }
 ],
 "metadata": {
  "kernelspec": {
   "display_name": "rr",
   "language": "python",
   "name": "rr"
  },
  "language_info": {
   "codemirror_mode": {
    "name": "ipython",
    "version": 3
   },
   "file_extension": ".py",
   "mimetype": "text/x-python",
   "name": "python",
   "nbconvert_exporter": "python",
   "pygments_lexer": "ipython3",
   "version": "3.10.6"
  }
 },
 "nbformat": 4,
 "nbformat_minor": 5
}
