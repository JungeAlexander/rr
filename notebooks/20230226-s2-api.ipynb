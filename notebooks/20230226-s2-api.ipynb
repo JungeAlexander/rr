{
 "cells": [
  {
   "cell_type": "markdown",
   "id": "0c663623-6306-4451-9602-32a338f78b17",
   "metadata": {},
   "source": [
    "# Semantic Scholar API"
   ]
  },
  {
   "cell_type": "code",
   "execution_count": null,
   "id": "2578f252-6010-4a4b-bfd2-b7efddfe66f7",
   "metadata": {},
   "outputs": [],
   "source": [
    "import httpx"
   ]
  },
  {
   "cell_type": "code",
   "execution_count": null,
   "id": "eefde732-e6ce-45f8-ac80-6c0b7c7bee0b",
   "metadata": {},
   "outputs": [],
   "source": [
    "doi = \"10.1101/444398\""
   ]
  },
  {
   "cell_type": "code",
   "execution_count": null,
   "id": "dc4136be-1d82-41bc-8be6-85436de4ddb5",
   "metadata": {},
   "outputs": [],
   "source": [
    "r1 = httpx.get(\n",
    "    f\"https://api.semanticscholar.org/graph/v1/paper/DOI:{doi}?fields=title,url,abstract,authors\"\n",
    ")"
   ]
  },
  {
   "cell_type": "code",
   "execution_count": null,
   "id": "571b062f-c60e-443c-8292-8b612ec60155",
   "metadata": {},
   "outputs": [],
   "source": [
    "def print_paper(paper: dict):\n",
    "    print(paper[\"title\"])\n",
    "    print(paper[\"url\"])\n",
    "    print(paper[\"abstract\"])\n",
    "    print(paper[\"authors\"])"
   ]
  },
  {
   "cell_type": "code",
   "execution_count": null,
   "id": "382a6ec0-cdbd-4682-ad81-f91a1ae9d46d",
   "metadata": {},
   "outputs": [],
   "source": [
    "j1 = r1.json()\n",
    "print_paper(j1)"
   ]
  },
  {
   "cell_type": "code",
   "execution_count": null,
   "id": "396d5297-e217-4558-828a-9b140d5d010d",
   "metadata": {},
   "outputs": [],
   "source": [
    "paper_id = j1[\"paperId\"]"
   ]
  },
  {
   "cell_type": "code",
   "execution_count": null,
   "id": "380794cc-83fd-48c0-9c50-ac14f9ac8a70",
   "metadata": {},
   "outputs": [],
   "source": [
    "num_papers = 100"
   ]
  },
  {
   "cell_type": "code",
   "execution_count": null,
   "id": "7c17b536-c7fb-4d39-af06-8379fe8b5f47",
   "metadata": {},
   "outputs": [],
   "source": [
    "r2 = httpx.get(\n",
    "    f\"https://api.semanticscholar.org/recommendations/v1/papers/forpaper/{paper_id}?limit={num_papers}&fields=title,url,abstract,authors\"\n",
    ")  # \")"
   ]
  },
  {
   "cell_type": "code",
   "execution_count": null,
   "id": "4bbf2c6e-8742-4043-a0f8-13a3c67cf728",
   "metadata": {},
   "outputs": [],
   "source": [
    "j2 = r2.json()"
   ]
  },
  {
   "cell_type": "code",
   "execution_count": null,
   "id": "77415ffc-9696-484f-8fc8-3b6eba8cc6de",
   "metadata": {},
   "outputs": [],
   "source": [
    "ids = [p[\"paperId\"] for p in j2[\"recommendedPapers\"]]\n",
    "payload = {\"ids\": ids}"
   ]
  },
  {
   "cell_type": "code",
   "execution_count": null,
   "id": "e62b1f7b-14da-47e8-a853-ed6bbe928005",
   "metadata": {},
   "outputs": [],
   "source": [
    "r3 = httpx.post(\n",
    "    \"https://api.semanticscholar.org/graph/v1/paper/batch?fields=title,isOpenAccess,openAccessPdf,authors,embedding,tldr\",\n",
    "    json=payload, timeout=50.0\n",
    ")"
   ]
  },
  {
   "cell_type": "code",
   "execution_count": null,
   "id": "ae235302-8f89-4c88-8659-a9d29e5f2870",
   "metadata": {},
   "outputs": [],
   "source": [
    "j3 = r3.json()"
   ]
  },
  {
   "cell_type": "code",
   "execution_count": null,
   "id": "2847ec82-d92d-49ed-af61-63b9aac19d03",
   "metadata": {},
   "outputs": [],
   "source": [
    "payload"
   ]
  },
  {
   "cell_type": "code",
   "execution_count": null,
   "id": "b2bb2c40-0c9b-43ef-bcdf-19eb20724505",
   "metadata": {},
   "outputs": [],
   "source": [
    "id_to_vector = {}\n",
    "id_to_title = {}\n",
    "for p in j3:\n",
    "    id_ = p[\"paperId\"]\n",
    "    assert p[\"embedding\"][\"model\"] == \"specter@v0.1.1\"\n",
    "    id_to_vector[id_] = p[\"embedding\"][\"vector\"]\n",
    "    id_to_title[id_] = p[\"title\"]"
   ]
  },
  {
   "cell_type": "markdown",
   "id": "a122d326-9b3a-4d35-922f-a06566b24d7c",
   "metadata": {},
   "source": [
    "### UMAP embedding"
   ]
  },
  {
   "cell_type": "code",
   "execution_count": null,
   "id": "92ea88cd-cabe-4c4a-982c-008624f759a4",
   "metadata": {},
   "outputs": [],
   "source": [
    "import bokeh\n",
    "import pandas as pd\n",
    "import umap\n",
    "\n",
    "from bokeh.plotting import figure, show, output_notebook\n",
    "from bokeh.models import HoverTool, ColumnDataSource, CategoricalColorMapper\n",
    "from bokeh.palettes import Spectral10\n",
    "\n",
    "output_notebook()"
   ]
  },
  {
   "cell_type": "code",
   "execution_count": null,
   "id": "314f9aae-f4e7-46b5-a7b4-e1e4fd98bb2d",
   "metadata": {},
   "outputs": [],
   "source": [
    "reducer = umap.UMAP(random_state=42)"
   ]
  },
  {
   "cell_type": "code",
   "execution_count": null,
   "id": "1d5ea632-3e4a-400c-8acd-8e62985faed9",
   "metadata": {},
   "outputs": [],
   "source": [
    "df = pd.DataFrame(id_to_vector).transpose()\n",
    "df"
   ]
  },
  {
   "cell_type": "code",
   "execution_count": null,
   "id": "4758cab0-a4b8-4af2-acdd-c39a4abe42e5",
   "metadata": {},
   "outputs": [],
   "source": [
    "reducer.fit(df)"
   ]
  },
  {
   "cell_type": "code",
   "execution_count": null,
   "id": "88b8b997-b43d-4199-a1ca-ac048211bc2b",
   "metadata": {},
   "outputs": [],
   "source": [
    "df_t = pd.DataFrame(reducer.transform(df))"
   ]
  },
  {
   "cell_type": "code",
   "execution_count": null,
   "id": "2d7f176c-ef9a-42b4-8057-b8fe1e32c83c",
   "metadata": {},
   "outputs": [],
   "source": [
    "df_t[\"id_\"] = df.index.copy()\n",
    "df_t[\"title\"] = [id_to_title[i] for i in df_t[\"id_\"]]\n",
    "df_t"
   ]
  },
  {
   "cell_type": "code",
   "execution_count": null,
   "id": "47305fd4-1a45-478b-ad1a-9360e30bcb03",
   "metadata": {},
   "outputs": [],
   "source": [
    "datasource = ColumnDataSource({str(c): v.values for c, v in df_t.items()})"
   ]
  },
  {
   "cell_type": "code",
   "execution_count": null,
   "id": "646dddff-04b8-47cf-a142-e6ad8e2e3ea5",
   "metadata": {},
   "outputs": [],
   "source": [
    "tooltips = [\n",
    "    (\"(x,y)\", \"($x, $y)\"),\n",
    "    (\"id\", \"@id_\"),\n",
    "    (\"title\", \"@title\"),\n",
    "]"
   ]
  },
  {
   "cell_type": "code",
   "execution_count": null,
   "id": "ff286c2d-559f-4430-add4-c12ad207b734",
   "metadata": {},
   "outputs": [],
   "source": [
    "plot_figure = figure(\n",
    "    title='UMAP projection of papers',\n",
    "    width=800,\n",
    "    height=800,\n",
    "    tooltips=tooltips,\n",
    ")"
   ]
  },
  {
   "cell_type": "code",
   "execution_count": null,
   "id": "3618b8d9-dd1a-4a59-8e3f-140b476ecd10",
   "metadata": {},
   "outputs": [],
   "source": [
    "plot_figure.circle(\n",
    "    '0',\n",
    "    '1',\n",
    "    source=datasource,\n",
    "    line_alpha=0.6,\n",
    "    fill_alpha=0.6,\n",
    "    size=4\n",
    ")\n",
    "show(plot_figure)"
   ]
  },
  {
   "cell_type": "markdown",
   "id": "21b73c09-384a-410b-a255-40a8107edd3e",
   "metadata": {},
   "source": [
    "### BioGPT"
   ]
  },
  {
   "cell_type": "code",
   "execution_count": null,
   "id": "f4586c4c-fbee-4c9f-973b-21b7fc6ecd0d",
   "metadata": {},
   "outputs": [],
   "source": [
    "from transformers import BioGptForCausalLM, BioGptTokenizer, pipeline, set_seed"
   ]
  },
  {
   "cell_type": "code",
   "execution_count": null,
   "id": "bda10e5d-8d36-45ae-83d0-3f09c61954d3",
   "metadata": {},
   "outputs": [],
   "source": [
    "model = BioGptForCausalLM.from_pretrained(\"microsoft/biogpt-large\")\n",
    "tokenizer = BioGptTokenizer.from_pretrained(\"microsoft/biogpt-large\")"
   ]
  },
  {
   "cell_type": "code",
   "execution_count": null,
   "id": "36686377-c01d-49cc-acb7-422d2e3bc9d0",
   "metadata": {},
   "outputs": [],
   "source": [
    "generator = pipeline(\"text-generation\", model=model, tokenizer=tokenizer)\n",
    "set_seed(42)\n",
    "generator(\"COVID-19 is\", max_length=20, num_return_sequences=5, do_sample=True)"
   ]
  },
  {
   "cell_type": "code",
   "execution_count": null,
   "id": "4d13c770-f9de-43ef-82d2-d5c4478d71d0",
   "metadata": {},
   "outputs": [],
   "source": [
    "input_text = f\"Task: please summarize the following article. Article: {j1['abstract']}\"\n",
    "input_text += \" Summary: \"\n",
    "input_text"
   ]
  },
  {
   "cell_type": "code",
   "execution_count": null,
   "id": "735b75b7-cae3-4471-bd11-0a87bd36837a",
   "metadata": {},
   "outputs": [],
   "source": [
    "generator(input_text, max_new_tokens=200, num_return_sequences=5, do_sample=True)"
   ]
  },
  {
   "cell_type": "code",
   "execution_count": null,
   "id": "17ff41a2-29d8-40d2-8c76-acb813cba7ce",
   "metadata": {},
   "outputs": [],
   "source": []
  }
 ],
 "metadata": {
  "kernelspec": {
   "display_name": "rr",
   "language": "python",
   "name": "rr"
  },
  "language_info": {
   "codemirror_mode": {
    "name": "ipython",
    "version": 3
   },
   "file_extension": ".py",
   "mimetype": "text/x-python",
   "name": "python",
   "nbconvert_exporter": "python",
   "pygments_lexer": "ipython3",
   "version": "3.10.6"
  }
 },
 "nbformat": 4,
 "nbformat_minor": 5
}
