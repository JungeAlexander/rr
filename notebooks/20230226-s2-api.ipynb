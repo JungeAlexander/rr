{
 "cells": [
  {
   "cell_type": "markdown",
   "id": "0c663623-6306-4451-9602-32a338f78b17",
   "metadata": {},
   "source": [
    "# Semantic Scholar API"
   ]
  },
  {
   "cell_type": "code",
   "execution_count": null,
   "id": "2578f252-6010-4a4b-bfd2-b7efddfe66f7",
   "metadata": {},
   "outputs": [],
   "source": [
    "import httpx"
   ]
  },
  {
   "cell_type": "code",
   "execution_count": null,
   "id": "eefde732-e6ce-45f8-ac80-6c0b7c7bee0b",
   "metadata": {},
   "outputs": [],
   "source": [
    "doi = \"10.1101/444398\""
   ]
  },
  {
   "cell_type": "code",
   "execution_count": null,
   "id": "dc4136be-1d82-41bc-8be6-85436de4ddb5",
   "metadata": {},
   "outputs": [],
   "source": [
    "r1 = httpx.get(\n",
    "    f\"https://api.semanticscholar.org/graph/v1/paper/DOI:{doi}?fields=title,url,abstract,authors\"\n",
    ")"
   ]
  },
  {
   "cell_type": "code",
   "execution_count": null,
   "id": "571b062f-c60e-443c-8292-8b612ec60155",
   "metadata": {},
   "outputs": [],
   "source": [
    "def print_paper(paper: dict):\n",
    "    print(paper[\"title\"])\n",
    "    print(paper[\"url\"])\n",
    "    print(paper[\"abstract\"])\n",
    "    print(paper[\"authors\"])"
   ]
  },
  {
   "cell_type": "code",
   "execution_count": null,
   "id": "382a6ec0-cdbd-4682-ad81-f91a1ae9d46d",
   "metadata": {},
   "outputs": [],
   "source": [
    "j1 = r1.json()\n",
    "print_paper(j1)"
   ]
  },
  {
   "cell_type": "code",
   "execution_count": null,
   "id": "396d5297-e217-4558-828a-9b140d5d010d",
   "metadata": {},
   "outputs": [],
   "source": [
    "paper_id = j1[\"paperId\"]"
   ]
  },
  {
   "cell_type": "code",
   "execution_count": null,
   "id": "7c17b536-c7fb-4d39-af06-8379fe8b5f47",
   "metadata": {},
   "outputs": [],
   "source": [
    "r2 = httpx.get(\n",
    "    f\"https://api.semanticscholar.org/recommendations/v1/papers/forpaper/{paper_id}?limit=10&fields=title,url,abstract,authors\"\n",
    ")  # \")"
   ]
  },
  {
   "cell_type": "code",
   "execution_count": null,
   "id": "4bbf2c6e-8742-4043-a0f8-13a3c67cf728",
   "metadata": {},
   "outputs": [],
   "source": [
    "j2 = r2.json()\n",
    "for p in j2[\"recommendedPapers\"]:\n",
    "    print_paper(p)\n",
    "    print()"
   ]
  },
  {
   "cell_type": "code",
   "execution_count": null,
   "id": "77415ffc-9696-484f-8fc8-3b6eba8cc6de",
   "metadata": {},
   "outputs": [],
   "source": [
    "ids = [p[\"paperId\"] for p in j2[\"recommendedPapers\"]]\n",
    "payload = {\"ids\": ids}\n",
    "payload"
   ]
  },
  {
   "cell_type": "code",
   "execution_count": null,
   "id": "e62b1f7b-14da-47e8-a853-ed6bbe928005",
   "metadata": {},
   "outputs": [],
   "source": [
    "r3 = httpx.post(\n",
    "    \"https://api.semanticscholar.org/graph/v1/paper/batch?fields=title,isOpenAccess,openAccessPdf,authors,embedding,tldr\",\n",
    "    json=payload, timeout=50.0\n",
    ")"
   ]
  },
  {
   "cell_type": "code",
   "execution_count": null,
   "id": "80ffeec2-859f-4170-a6a2-577296b83a20",
   "metadata": {},
   "outputs": [],
   "source": [
    "j3 = r3.json()\n",
    "j3"
   ]
  },
  {
   "cell_type": "markdown",
   "id": "21b73c09-384a-410b-a255-40a8107edd3e",
   "metadata": {},
   "source": [
    "## BioGPT"
   ]
  },
  {
   "cell_type": "code",
   "execution_count": null,
   "id": "f4586c4c-fbee-4c9f-973b-21b7fc6ecd0d",
   "metadata": {},
   "outputs": [],
   "source": [
    "from transformers import BioGptForCausalLM, BioGptTokenizer, pipeline, set_seed"
   ]
  },
  {
   "cell_type": "code",
   "execution_count": null,
   "id": "bda10e5d-8d36-45ae-83d0-3f09c61954d3",
   "metadata": {},
   "outputs": [],
   "source": [
    "model = BioGptForCausalLM.from_pretrained(\"microsoft/biogpt-large\")\n",
    "tokenizer = BioGptTokenizer.from_pretrained(\"microsoft/biogpt-large\")"
   ]
  },
  {
   "cell_type": "code",
   "execution_count": null,
   "id": "36686377-c01d-49cc-acb7-422d2e3bc9d0",
   "metadata": {},
   "outputs": [],
   "source": [
    "generator = pipeline(\"text-generation\", model=model, tokenizer=tokenizer)\n",
    "set_seed(42)\n",
    "generator(\"COVID-19 is\", max_length=20, num_return_sequences=5, do_sample=True)"
   ]
  },
  {
   "cell_type": "code",
   "execution_count": null,
   "id": "4d13c770-f9de-43ef-82d2-d5c4478d71d0",
   "metadata": {},
   "outputs": [],
   "source": [
    "input_text = f\"Task: please summarize the following article. Article: {j1['abstract']}\"\n",
    "input_text += \" Summary: \"\n",
    "input_text"
   ]
  },
  {
   "cell_type": "code",
   "execution_count": null,
   "id": "735b75b7-cae3-4471-bd11-0a87bd36837a",
   "metadata": {},
   "outputs": [],
   "source": [
    "generator(input_text, max_new_tokens=200, num_return_sequences=5, do_sample=True)"
   ]
  },
  {
   "cell_type": "code",
   "execution_count": null,
   "id": "17ff41a2-29d8-40d2-8c76-acb813cba7ce",
   "metadata": {},
   "outputs": [],
   "source": []
  }
 ],
 "metadata": {
  "kernelspec": {
   "display_name": "rr",
   "language": "python",
   "name": "rr"
  },
  "language_info": {
   "codemirror_mode": {
    "name": "ipython",
    "version": 3
   },
   "file_extension": ".py",
   "mimetype": "text/x-python",
   "name": "python",
   "nbconvert_exporter": "python",
   "pygments_lexer": "ipython3",
   "version": "3.10.6"
  }
 },
 "nbformat": 4,
 "nbformat_minor": 5
}
