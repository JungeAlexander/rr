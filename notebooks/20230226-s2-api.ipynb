{
 "cells": [
  {
   "cell_type": "markdown",
   "id": "0c663623-6306-4451-9602-32a338f78b17",
   "metadata": {},
   "source": [
    "# Semantic Scholar API"
   ]
  },
  {
   "cell_type": "code",
   "execution_count": null,
   "id": "2578f252-6010-4a4b-bfd2-b7efddfe66f7",
   "metadata": {},
   "outputs": [],
   "source": [
    "import httpx"
   ]
  },
  {
   "cell_type": "code",
   "execution_count": null,
   "id": "eefde732-e6ce-45f8-ac80-6c0b7c7bee0b",
   "metadata": {},
   "outputs": [],
   "source": [
    "doi = \"10.1101/444398\""
   ]
  },
  {
   "cell_type": "code",
   "execution_count": null,
   "id": "dc4136be-1d82-41bc-8be6-85436de4ddb5",
   "metadata": {},
   "outputs": [],
   "source": [
    "r = httpx.get(f\"https://api.semanticscholar.org/graph/v1/paper/DOI:{doi}\")"
   ]
  },
  {
   "cell_type": "code",
   "execution_count": null,
   "id": "382a6ec0-cdbd-4682-ad81-f91a1ae9d46d",
   "metadata": {},
   "outputs": [],
   "source": [
    "j = r.json()\n",
    "j"
   ]
  },
  {
   "cell_type": "code",
   "execution_count": null,
   "id": "396d5297-e217-4558-828a-9b140d5d010d",
   "metadata": {},
   "outputs": [],
   "source": [
    "paper_id = j[\"paperId\"]"
   ]
  },
  {
   "cell_type": "code",
   "execution_count": null,
   "id": "7c17b536-c7fb-4d39-af06-8379fe8b5f47",
   "metadata": {},
   "outputs": [],
   "source": [
    "r = httpx.get(f\"https://api.semanticscholar.org/recommendations/v1/papers/forpaper/{paper_id}?fields=url,abstract,authors\")"
   ]
  },
  {
   "cell_type": "code",
   "execution_count": null,
   "id": "4bbf2c6e-8742-4043-a0f8-13a3c67cf728",
   "metadata": {},
   "outputs": [],
   "source": [
    "j = r.json()\n",
    "j"
   ]
  },
  {
   "cell_type": "code",
   "execution_count": null,
   "id": "fd009e57-b1f0-4958-bc15-5e2ae8333968",
   "metadata": {},
   "outputs": [],
   "source": []
  }
 ],
 "metadata": {
  "kernelspec": {
   "display_name": "rr",
   "language": "python",
   "name": "rr"
  },
  "language_info": {
   "codemirror_mode": {
    "name": "ipython",
    "version": 3
   },
   "file_extension": ".py",
   "mimetype": "text/x-python",
   "name": "python",
   "nbconvert_exporter": "python",
   "pygments_lexer": "ipython3",
   "version": "3.10.6"
  }
 },
 "nbformat": 4,
 "nbformat_minor": 5
}
